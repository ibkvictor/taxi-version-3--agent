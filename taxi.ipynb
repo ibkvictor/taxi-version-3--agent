{
  "nbformat": 4,
  "nbformat_minor": 0,
  "metadata": {
    "colab": {
      "name": "taxi.ipynb",
      "provenance": [],
      "authorship_tag": "ABX9TyOy79HAghbJoThJVf6kRVPx",
      "include_colab_link": true
    },
    "kernelspec": {
      "name": "python3",
      "display_name": "Python 3"
    }
  },
  "cells": [
    {
      "cell_type": "markdown",
      "metadata": {
        "id": "view-in-github",
        "colab_type": "text"
      },
      "source": [
        "<a href=\"https://colab.research.google.com/github/ibkvictor/taxi-version-3--agent/blob/master/taxi.ipynb\" target=\"_parent\"><img src=\"https://colab.research.google.com/assets/colab-badge.svg\" alt=\"Open In Colab\"/></a>"
      ]
    },
    {
      "cell_type": "markdown",
      "metadata": {
        "id": "5HUEnwYyKp2j",
        "colab_type": "text"
      },
      "source": [
        "[![Open In Colab](https://colab.research.google.com/assets/colab-badge.svg)](https://colab.research.google.com/github/googlecolab/colabtools/blob/master/notebooks/colab-github-demo.ipynb)"
      ]
    },
    {
      "cell_type": "code",
      "metadata": {
        "id": "RISo2UZT29Wj",
        "colab_type": "code",
        "colab": {}
      },
      "source": [
        "import numpy as np\n",
        "import gym\n",
        "import random"
      ],
      "execution_count": 8,
      "outputs": []
    },
    {
      "cell_type": "code",
      "metadata": {
        "id": "4Qb13M_83N7-",
        "colab_type": "code",
        "colab": {
          "base_uri": "https://localhost:8080/",
          "height": 153
        },
        "outputId": "f23fa2dc-93e6-4a64-de22-ca6e9850658e"
      },
      "source": [
        "env = gym.make(\"Taxi-v3\")\n",
        "env.render()"
      ],
      "execution_count": 4,
      "outputs": [
        {
          "output_type": "stream",
          "text": [
            "+---------+\n",
            "|\u001b[34;1mR\u001b[0m: | :\u001b[43m \u001b[0m:G|\n",
            "| : | : : |\n",
            "| : : : : |\n",
            "| | : | : |\n",
            "|\u001b[35mY\u001b[0m| : |B: |\n",
            "+---------+\n",
            "\n"
          ],
          "name": "stdout"
        }
      ]
    },
    {
      "cell_type": "code",
      "metadata": {
        "id": "BaUGL8aZ3V68",
        "colab_type": "code",
        "colab": {}
      },
      "source": [
        "action_size = env.action_space.n\n",
        "state_size = env.observation_space.n"
      ],
      "execution_count": 5,
      "outputs": []
    },
    {
      "cell_type": "code",
      "metadata": {
        "id": "_8cJ6DL830zj",
        "colab_type": "code",
        "colab": {
          "base_uri": "https://localhost:8080/",
          "height": 136
        },
        "outputId": "076340d0-ddb0-4e4b-c91d-51eb058ad489"
      },
      "source": [
        "qtable = np.zeros((state_size, action_size))\n",
        "qtable"
      ],
      "execution_count": 7,
      "outputs": [
        {
          "output_type": "execute_result",
          "data": {
            "text/plain": [
              "array([[0., 0., 0., 0., 0., 0.],\n",
              "       [0., 0., 0., 0., 0., 0.],\n",
              "       [0., 0., 0., 0., 0., 0.],\n",
              "       ...,\n",
              "       [0., 0., 0., 0., 0., 0.],\n",
              "       [0., 0., 0., 0., 0., 0.],\n",
              "       [0., 0., 0., 0., 0., 0.]])"
            ]
          },
          "metadata": {
            "tags": []
          },
          "execution_count": 7
        }
      ]
    },
    {
      "cell_type": "code",
      "metadata": {
        "id": "qFEaWau638Vr",
        "colab_type": "code",
        "colab": {}
      },
      "source": [
        "discount = 0.3\n",
        "learning_rate = 0.7\n",
        "decay_rate = 0.5\n",
        "epsilon = 1\n",
        "min_epsilon = 0.01\n",
        "max_epsilon = 1\n",
        "epsilon_range = max_epsilon - min_epsilon"
      ],
      "execution_count": 37,
      "outputs": []
    },
    {
      "cell_type": "code",
      "metadata": {
        "id": "HOLyrbJn77XA",
        "colab_type": "code",
        "colab": {}
      },
      "source": [
        "episodes = 1000\n",
        "steps = 30"
      ],
      "execution_count": 38,
      "outputs": []
    },
    {
      "cell_type": "code",
      "metadata": {
        "id": "50gvFeKb4FCD",
        "colab_type": "code",
        "colab": {}
      },
      "source": [
        "for episode in range(episodes):\n",
        "  state = env.reset()\n",
        "  total_reward = 0\n",
        "  done = False\n",
        "\n",
        "  for step in range(steps):\n",
        "\n",
        "    if random.uniform(0,1) > epsilon:\n",
        "      action = np.argmax(qtable[state, : ]) #exploitaion\n",
        "    else:\n",
        "      action = env.action_space.sample() #exploration\n",
        "\n",
        "    new_state, reward, done, info = env.step(action) #agent performing a change in state(action) in its environment\n",
        "\n",
        "    total_reward += reward\n",
        "    # qtable[state, action] = qtable[state, action] + learning_rate * (reward + discount * np.max(qtable[new_state,:]) - qtable[state, action])\n",
        "    qtable[state, action] = qtable[state, action] + learning_rate * (reward + discount * np.max(qtable[new_state, :]) - qtable[state, action])\n",
        "    state = new_state\n",
        "\n",
        "    if done == True:\n",
        "      break\n",
        "\n",
        "  epsilon = min_epsilon + epsilon_range * np.exp(-decay_rate * episode)\n"
      ],
      "execution_count": 39,
      "outputs": []
    },
    {
      "cell_type": "code",
      "metadata": {
        "id": "rjFrOAb4G3-Z",
        "colab_type": "code",
        "colab": {
          "base_uri": "https://localhost:8080/",
          "height": 136
        },
        "outputId": "1c5a2b08-7f42-4981-d994-0988c2cb4785"
      },
      "source": [
        "print (qtable)"
      ],
      "execution_count": 40,
      "outputs": [
        {
          "output_type": "stream",
          "text": [
            "[[ 0.          0.          0.          0.          0.          0.        ]\n",
            " [-1.42826405 -1.42834584 -1.42842988 -1.42834584 -1.42817661 -7.        ]\n",
            " [-1.42274607 -1.42523691 -1.42573174 -1.42523691 -1.3765     -7.        ]\n",
            " ...\n",
            " [-1.41575128 -1.41082712 -1.41575128 -1.41606596 -7.         -7.        ]\n",
            " [-1.42687082 -1.42558166 -1.42687082 -1.42689452 -7.         -7.        ]\n",
            " [-1.057      -1.11433    -1.057       2.03       -7.         -7.        ]]\n"
          ],
          "name": "stdout"
        }
      ]
    },
    {
      "cell_type": "code",
      "metadata": {
        "id": "V2aq9uef923v",
        "colab_type": "code",
        "colab": {
          "base_uri": "https://localhost:8080/",
          "height": 34
        },
        "outputId": "bebcd275-bb7c-4a8b-fcb3-bada08a4de45"
      },
      "source": [
        "episodes = 20 #episode is changed for testing\n",
        "rewards = []\n",
        "for episode in range(episodes):\n",
        "  state = env.reset()\n",
        "  done = False\n",
        "  total_reward = 0\n",
        "\n",
        "  for step in range(steps):\n",
        "    action = np.argmax(qtable[state, : ])\n",
        "\n",
        "    new_state, reward, done, info = env.step(action)\n",
        "\n",
        "    state = new_state\n",
        "    \n",
        "    total_reward += reward\n",
        "\n",
        "    if done == True:\n",
        "      rewards.append(total_reward)\n",
        "      break\n",
        "env.close\n",
        "print(\"total reward gathered by agent = \" + str(sum(rewards)))"
      ],
      "execution_count": 41,
      "outputs": [
        {
          "output_type": "stream",
          "text": [
            "total reward gathered by agent = 97\n"
          ],
          "name": "stdout"
        }
      ]
    },
    {
      "cell_type": "markdown",
      "metadata": {
        "id": "29eeVaAyHnrl",
        "colab_type": "text"
      },
      "source": [
        "Done with some of the code work for now need a lot of hyper parameter tuning!!!"
      ]
    }
  ]
}